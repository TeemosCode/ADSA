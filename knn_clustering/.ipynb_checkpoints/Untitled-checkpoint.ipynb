{
 "cells": [
  {
   "cell_type": "code",
   "execution_count": 7,
   "metadata": {
    "collapsed": true
   },
   "outputs": [],
   "source": [
    "import matplotlib.pyplot as plt \n",
    "import numpy as np \n",
    "import random\n",
    "import math"
   ]
  },
  {
   "cell_type": "code",
   "execution_count": 8,
   "metadata": {
    "collapsed": true
   },
   "outputs": [],
   "source": [
    "#returns a tuple of two lists \n",
    "def data_gen():\n",
    "    x=list()\n",
    "    y=list() \n",
    "    for i in range(500):\n",
    "        x.append(random.randint(0,700))\n",
    "        y.append(random.randint(0,700))\n",
    "    for i in range(500):\n",
    "        x.append(random.randint(300,1000))\n",
    "        y.append(random.randint(300,1000))\n",
    "    return (x,y)"
   ]
  },
  {
   "cell_type": "code",
   "execution_count": 9,
   "metadata": {
    "collapsed": true
   },
   "outputs": [],
   "source": [
    "# takes 2 arrays as input of X and corresponding Y\n",
    "# Returns the mean \n",
    "def mean_calculator(x,y):\n",
    "    x_m=0\n",
    "    y_m=0\n",
    "    for i in range(len(x)):\n",
    "        x_m+=x[i]\n",
    "        y_m+=y[i]\n",
    "    return (((x_m)/len(x)),((y_m)/len(y)))"
   ]
  },
  {
   "cell_type": "code",
   "execution_count": 10,
   "metadata": {
    "collapsed": true
   },
   "outputs": [],
   "source": [
    "# takes two tuples of coordinates as input\n",
    "# returns the distance betweeen the two points  \n",
    "def distance_calculator(p1,p2):\n",
    "    return math.sqrt((p1[0]-p2[0])**2+(p1[1]-p2[1])**2)\n"
   ]
  },
  {
   "cell_type": "code",
   "execution_count": 13,
   "metadata": {},
   "outputs": [],
   "source": [
    "def cluster():\n",
    "    data=data_gen()\n",
    "    x=data[0]\n",
    "    y=data[1]\n",
    "    # random points\n",
    "    in1=random.randint(0,len(x))\n",
    "    in2=random.randint(0,len(x))\n",
    "    s1=x[in1],y[in1]\n",
    "    s2=x[in2],y[in2]\n",
    "    \n",
    "    k=[0 for i in range (1000)]\n",
    "    \n",
    "    cal_means = []\n",
    "    \n",
    "    for i in range(10):\n",
    "\n",
    "        # assigning each point to a class \n",
    "        for j in range(1000):\n",
    "            d1=distance_calculator(s1,(x[j],y[j]))\n",
    "            d2=distance_calculator(s2,(x[j],y[j]))\n",
    "            if(d1>d2):\n",
    "                k[j]=2\n",
    "            else:\n",
    "                k[j]=1\n",
    "        \n",
    "        \n",
    "## make subarrays of the two cluster \n",
    "#            #Calculate new means \n",
    "# Change s1 and s2 to those points \n",
    "\n",
    "\n",
    "#         del c1_y\n",
    "#         del c1_x\n",
    "#         del c2_y\n",
    "#         del c2_x\n",
    "        \n",
    "        cl_x = [x[i] for i in range(1000) if(k[i] == 1)]\n",
    "        c1_y = [y[i] for i in range(len(y)) if(k[i] == 1)]\n",
    "        c2_x = [x[i] for i in range(len(x)) if(k[i] == 2)]\n",
    "        c2_y = [y[i] for i in range(len(y)) if(k[i] == 2)]\n",
    "        \n",
    "        # calculating the new means\n",
    "        s1 = mean_calculator(c1_x, c1_y)\n",
    "        s2 = mean_calculator(c2_x, c2_y)\n",
    "        \n",
    "        cal_means.append((s1,s2))"
   ]
  },
  {
   "cell_type": "code",
   "execution_count": 14,
   "metadata": {
    "collapsed": true
   },
   "outputs": [],
   "source": []
  },
  {
   "cell_type": "code",
   "execution_count": null,
   "metadata": {
    "collapsed": true
   },
   "outputs": [],
   "source": []
  },
  {
   "cell_type": "code",
   "execution_count": null,
   "metadata": {
    "collapsed": true
   },
   "outputs": [],
   "source": []
  }
 ],
 "metadata": {
  "anaconda-cloud": {},
  "kernelspec": {
   "display_name": "Python [conda root]",
   "language": "python",
   "name": "conda-root-py"
  },
  "language_info": {
   "codemirror_mode": {
    "name": "ipython",
    "version": 3
   },
   "file_extension": ".py",
   "mimetype": "text/x-python",
   "name": "python",
   "nbconvert_exporter": "python",
   "pygments_lexer": "ipython3",
   "version": "3.5.2"
  }
 },
 "nbformat": 4,
 "nbformat_minor": 2
}
